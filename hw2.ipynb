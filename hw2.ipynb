{
 "cells": [
  {
   "cell_type": "markdown",
   "metadata": {},
   "source": [
    "<img src=\"hw2.PNG\">"
   ]
  },
  {
   "cell_type": "markdown",
   "metadata": {},
   "source": [
    "<img src=\"problem1.PNG\">"
   ]
  },
  {
   "cell_type": "code",
   "execution_count": 109,
   "metadata": {},
   "outputs": [
    {
     "name": "stdout",
     "output_type": "stream",
     "text": [
      "Reading data...\n"
     ]
    }
   ],
   "source": [
    "import numpy\n",
    "from urllib.request import urlopen\n",
    "import scipy.optimize\n",
    "import random\n",
    "import gzip\n",
    "\n",
    "def parseDataFromURL(fname):\n",
    "  for l in urlopen(fname):\n",
    "    \n",
    "    yield eval(fname)\n",
    "\n",
    "def parseData(fname):\n",
    "  for l in open(fname):\n",
    "    yield eval(l)\n",
    "\n",
    "print(\"Reading data...\")"
   ]
  },
  {
   "cell_type": "code",
   "execution_count": 110,
   "metadata": {},
   "outputs": [
    {
     "name": "stdout",
     "output_type": "stream",
     "text": [
      "<class 'list'>\n",
      "<class 'dict'>\n",
      "done\n",
      "dict_keys(['user_id', 'book_id', 'review_id', 'rating', 'review_text', 'date_added', 'date_updated', 'read_at', 'started_at', 'n_votes', 'n_comments'])\n",
      "542338\n",
      "dc3763cdb9b2cae805882878eebb6a32\n",
      "18471619\n",
      "3\n",
      "Sherlock Holmes and the Vampires of London \n",
      " Release Date: April 2014 \n",
      " Publisher: Darkhorse Comics \n",
      " Story by: Sylvain Cordurie \n",
      " Art by: Laci \n",
      " Colors by: Axel Gonzabo \n",
      " Cover by: Jean Sebastien Rossbach \n",
      " ISDN: 9781616552664 \n",
      " MSRP: $17.99 Hardcover \n",
      " \"Sherlock Holmes died fighting Professor Moriarty in the Reichenbach Falls. \n",
      " At least, that's what the press claims. \n",
      " However, Holmes is alive and well and taking advantage of his presumed death to travel the globe. \n",
      " Unfortunately, Holmes's plans are thwarted when a plague of vampirism haunts Britain. \n",
      " This book collects Sherlock Holmes and the Vampires of London Volumes 1 and 2, originally created by French publisher Soleil.\" - Darkhorse Comics \n",
      " When I received this copy of \"Sherlock Holmes and the Vampires of London\" I was Ecstatic! The cover art was awesome and it was about two of my favorite things, Sherlock Holmes and Vampires. I couldn't wait to dive into this! \n",
      " Unfortunately, that is where my excitement ended. The story takes place a month after Sherlock Holmes supposed death in his battle with Professor Moriarty. Sherlock's plan to stay hidden and out of site are ruined when on a trip with his brother Mycroft, they stumble on the presence of vampires. That is about as much of Sherlock's character that comes through the book. I can't even tell you the story really because nothing and I mean nothing stuck with me after reading it. I never, ever got the sense of Sherlock Holmes anywhere in this graphic novel, nor any real sense of mystery or crime. It was just Sherlock somehow battling vampires that should have had absolutely no trouble snuffing him out in a fight, but somehow always surviving and holding his own against supernatural, super powerful, blazingly fast creatures. \n",
      " The cover art is awesome and it truly made me excited to read this but everything else feel completely flat for me. I tried telling myself that \"it's a graphic novel, it would be hard to translate mystery, details, emotion\" but then I remembered reading DC Comic's \"Identity Crisis\" and realized that was a load of crap. I know it's unfair to compare the two as \"Identity Crisis\" had popular mystery author Brad Meltzer writing it right? Yeah....no. The standard was set that day and there is more than enough talent out there to create a great story in a graphic novel. \n",
      " That being said, it wasn't a horrible story, it just didn't grip me for feel anything like Sherlock Holmes to me. It was easy enough to follow but I felt no sense of tension, stakes or compassion for any of the characters. \n",
      " As far as the vampires go, it's hard to know what to expect anymore as there are so many different versions these days. This was the more classic version which I personally prefer, but again I didn't find anything that portrayed their dominance, calm confidence or sexuality. There was definitely a presence of their physical prowess but somehow that was lost on me as easily as Sherlock was able to defend himself. I know it, wouldn't do to kill of the main character, but this would have a been a great opportunity to build around the experience and beguiling nature of a vampire that had lived so many years of experience. Another chance to showcase Sherlock's intellect in a battle of wits over strength in something more suitable for this sort of story as apposed to trying to make it feel like an action movie. \n",
      " Maybe I expected to much and hoped to have at least a gripping premise or some sort of interesting plot or mystery but I didn't find it here. This may be a must have for serious Sherlock Holmes fans that have to collect everything about him, but if you are looking for a great story inside a graphic novel, I would have to say pass on this one. \n",
      " That artwork is good, cover is great, story is lacking so I am giving it 2.5 out of 5 stars.\n"
     ]
    }
   ],
   "source": [
    "# Download from https://cseweb.ucsd.edu//classes/fa21/cse258-b/data/goodreads_reviews_comics_graphic.json.gz\"\n",
    "data = list(parseData(\"./data/goodreads_reviews_comics_graphic.json\"))\n",
    "print(type(data)) # <class 'list'>\n",
    "print(type(data[0])) # <class 'dictionary'>\n",
    "print(\"done\")\n",
    "\n",
    "keys = data[0].keys()\n",
    "print(keys) \n",
    "print(len(data))\n",
    "# dict_keys(['user_id', 'book_id', 'review_id', 'rating', 'review_text', 'date_added', 'date_updated', 'read_at', 'started_at', 'n_votes', 'n_comments'])\n",
    "\n",
    "print(data[0]['user_id']) \n",
    "print(data[0]['book_id']) \n",
    "print(data[0]['rating'])\n",
    "print(data[0]['review_text'])"
   ]
  },
  {
   "cell_type": "code",
   "execution_count": 111,
   "metadata": {
    "scrolled": true
   },
   "outputs": [],
   "source": [
    "import pandas as pd\n",
    "import numpy as np\n",
    "\n",
    "def Jaccard(s1, s2):\n",
    "    numer = len(s1.intersection(s2))\n",
    "    denom = len(s1.union(s2))\n",
    "    if denom == 0:\n",
    "        return 0\n",
    "    return numer / denom\n",
    "\n",
    "book_ids = []\n",
    "for d in data:\n",
    "    book_ids.append(d['book_id'])\n",
    "book_id_list = np.unique(book_ids)"
   ]
  },
  {
   "cell_type": "code",
   "execution_count": 112,
   "metadata": {},
   "outputs": [],
   "source": [
    "book_user_dict = {} \n",
    "[book_user_dict.setdefault(b, []) for b in book_id_list]\n",
    "   \n",
    "for d in data:\n",
    "    book_user_dict[d['book_id']].append(d['user_id'])"
   ]
  },
  {
   "cell_type": "code",
   "execution_count": 113,
   "metadata": {},
   "outputs": [],
   "source": [
    "# user list of \n",
    "user_first_book_set = set(book_user_dict[data[0]['book_id']])\n",
    "\n",
    "jaccard_sim_list = []\n",
    "for book, users in book_user_dict.items():\n",
    "    # jaccard similarity\n",
    "    jaccard_sim_list.append(Jaccard(user_first_book_set, set(users)))"
   ]
  },
  {
   "cell_type": "code",
   "execution_count": 114,
   "metadata": {},
   "outputs": [
    {
     "name": "stdout",
     "output_type": "stream",
     "text": [
      "[0.16666666666666666, 0.14285714285714285, 0.13793103448275862, 0.13157894736842105, 0.12903225806451613, 0.125, 0.12121212121212122, 0.12121212121212122, 0.12121212121212122, 0.11764705882352941]\n",
      "['9998775', '9997912', '9997666', '9997584', '999589', '9995674', '9994190', '9994190', '9994190', '9994164']\n"
     ]
    }
   ],
   "source": [
    "jaccard_sim_sorted = jaccard_sim_list\n",
    "jaccard_sim_sorted.sort()\n",
    "jaccard_sim_sorted = list(reversed(jaccard_sim_sorted))\n",
    "\n",
    "top_ten = jaccard_sim_sorted[1:11]\n",
    "print(top_ten)\n",
    "book_indices = [jaccard_sim_list.index(b) for b in top_ten]\n",
    "books_most_similar = [list(book_user_dict.keys())[i] for i in book_indices]\n",
    "print(books_most_similar)"
   ]
  },
  {
   "cell_type": "markdown",
   "metadata": {},
   "source": [
    "Answer for Problem 1 \n",
    "\n",
    "a. smilarities of top ten most similar book according to Jaccard Similarity\n",
    "\n",
    "[0.16666666666666666, 0.14285714285714285, 0.13793103448275862, 0.13157894736842105, 0.12903225806451613, 0.125, 0.12121212121212122, 0.12121212121212122, 0.12121212121212122, 0.11764705882352941]\n",
    "\n",
    "b. books id of top ten most similar book according to Jaccard Similarity\n",
    "\n",
    "['9998775', '9997912', '9997666', '9997584', '999589', '9995674', '9994190', '9994190', '9994190', '9994164']"
   ]
  },
  {
   "cell_type": "markdown",
   "metadata": {},
   "source": [
    "<img src=\"problem2.PNG\">"
   ]
  },
  {
   "cell_type": "code",
   "execution_count": 115,
   "metadata": {},
   "outputs": [
    {
     "name": "stdout",
     "output_type": "stream",
     "text": [
      "{'18471619'}\n"
     ]
    }
   ],
   "source": [
    "# find the highest rating book for user ‘dc3763cdb9b2cae805882878eebb6a32'\n",
    "user_ids = []\n",
    "for d in data:\n",
    "    user_ids.append(d['user_id'])\n",
    "user_id_list = np.unique(user_ids)\n",
    "user_book_dict = {}\n",
    "[user_book_dict.setdefault(u, []) for u in user_id_list]\n",
    "   \n",
    "for d in data:\n",
    "    user_book_dict[d['user_id']].append(d['book_id'])\n",
    "    \n",
    "# user list of\n",
    "user_book_set = set(user_book_dict['dc3763cdb9b2cae805882878eebb6a32'])\n",
    "print(user_book_set)"
   ]
  },
  {
   "cell_type": "code",
   "execution_count": 168,
   "metadata": {},
   "outputs": [
    {
     "name": "stdout",
     "output_type": "stream",
     "text": [
      "['1000059', '1000059', '1000059', '1000059', '1000059', '1000059', '1000059', '1000059', '1000059', '1000059']\n",
      "['1000059', '10000736', '1000096', '10001021', '10001176', '10001434', '1000163', '1000246', '10002633', '10002666']\n"
     ]
    }
   ],
   "source": [
    "# choose the N items most similar to the user’s favorite (i.e., highest rated) item.\n",
    "user_set = set(['dc3763cdb9b2cae805882878eebb6a32'])\n",
    "jaccard_sim_list = []\n",
    "for book, users in book_user_dict.items():\n",
    "    # jaccard similarity\n",
    "    jaccard_sim_list.append(Jaccard(user_set, set(users)))\n",
    "    \n",
    "jaccard_sim_sorted = jaccard_sim_list\n",
    "jaccard_sim_sorted.sort()\n",
    "jaccard_sim_sorted = list(reversed(jaccard_sim_sorted))\n",
    "\n",
    "top_ten = jaccard_sim_sorted[1:11]\n",
    "book_indices = [jaccard_sim_list.index(b) for b in top_ten]\n",
    "books_most_similar = [list(book_user_dict.keys())[i] for i in book_indices]\n",
    "print(books_most_similar)\n",
    "print(sorted(book_id_list)[0:10])"
   ]
  },
  {
   "cell_type": "code",
   "execution_count": 117,
   "metadata": {},
   "outputs": [
    {
     "name": "stdout",
     "output_type": "stream",
     "text": [
      "[1.0, 0.3333333333333333, 0.25, 0.2, 0.14285714285714285, 0.05555555555555555, 0.030303030303030304, 0.023809523809523808, 0.02040816326530612, 0.014925373134328358]\n",
      "['ffffbb062a8b208c9c1031b529c08f7a', 'ffff7cafdaf5196383cb2efca08fb6fe', 'ffff601c0ffa34bd5ffbbf2caee30644', 'fffe3fca0160bd78ae5828b44fbeb72d', 'fffdbe24990b7e9e78653f97fc8cecd1', 'fffc34d137f5c5c5e1ca1d6f325a4dcf', 'fffba5600c5d01693b75964e7fbe193f', 'fffa84546640e2fc35ec5e7c39a126cd', 'fff9e2b47952a14cbe37ab8a7bfbc63c', 'fff99682ca5ff8aab27863cb42f24e16']\n",
      "['16131399', '11029842']\n",
      "['16071892', '18630542', '23093367', '19358975', '17131869', '15704307', '18659623', '20575446', '15799936']\n",
      "['18474136', '13602241', '22424']\n",
      "['24000357']\n",
      "['19351043']\n",
      "['34895950', '34934766', '34506918', '32479654', '32479653', '29066588', '28862494', '25076719', '23503834', '22789111', '23982972', '23241668', '1294247', '15985364', '6492676', '9640779']\n",
      "['17571564']\n",
      "['18586340']\n",
      "['25652706']\n",
      "['22416']\n"
     ]
    }
   ],
   "source": [
    "# find the N most similar users, and recommending each of their their favorite (highest rated) items\n",
    "jaccard_sim_list = []\n",
    "for user, books in user_book_dict.items():\n",
    "    jaccard_sim_list.append(Jaccard(user_book_set, set(books)))\n",
    "jaccard_sim_sorted = jaccard_sim_list\n",
    "jaccard_sim_sorted.sort()\n",
    "jaccard_sim_sorted = list(reversed(jaccard_sim_sorted))\n",
    "\n",
    "top_ten = jaccard_sim_sorted[1:11]\n",
    "print(top_ten)\n",
    "user_indices = [jaccard_sim_list.index(u) for u in top_ten]\n",
    "users_most_similar = [list(user_book_dict.keys())[i] for i in user_indices]\n",
    "print(users_most_similar)\n",
    "\n",
    "for u in users_most_similar:\n",
    "    print(user_book_dict[u])"
   ]
  },
  {
   "cell_type": "code",
   "execution_count": 118,
   "metadata": {},
   "outputs": [
    {
     "name": "stdout",
     "output_type": "stream",
     "text": [
      "[['ffff601c0ffa34bd5ffbbf2caee30644', '18474136', 5], ['ffff601c0ffa34bd5ffbbf2caee30644', '13602241', 5], ['ffff601c0ffa34bd5ffbbf2caee30644', '22424', 5], ['ffff7cafdaf5196383cb2efca08fb6fe', '16071892', 2], ['ffff7cafdaf5196383cb2efca08fb6fe', '18630542', 4], ['ffff7cafdaf5196383cb2efca08fb6fe', '23093367', 4], ['ffff7cafdaf5196383cb2efca08fb6fe', '19358975', 4], ['ffff7cafdaf5196383cb2efca08fb6fe', '17131869', 3], ['ffff7cafdaf5196383cb2efca08fb6fe', '15704307', 4], ['ffff7cafdaf5196383cb2efca08fb6fe', '18659623', 4], ['ffff7cafdaf5196383cb2efca08fb6fe', '20575446', 4], ['ffff7cafdaf5196383cb2efca08fb6fe', '15799936', 4], ['fffdbe24990b7e9e78653f97fc8cecd1', '19351043', 5], ['fff9e2b47952a14cbe37ab8a7bfbc63c', '25652706', 5], ['fffc34d137f5c5c5e1ca1d6f325a4dcf', '34895950', 0], ['fffc34d137f5c5c5e1ca1d6f325a4dcf', '34934766', 2], ['fffc34d137f5c5c5e1ca1d6f325a4dcf', '34506918', 3], ['fffc34d137f5c5c5e1ca1d6f325a4dcf', '32479654', 4], ['fffc34d137f5c5c5e1ca1d6f325a4dcf', '32479653', 4], ['fffc34d137f5c5c5e1ca1d6f325a4dcf', '29066588', 3], ['fffc34d137f5c5c5e1ca1d6f325a4dcf', '28862494', 3], ['fffc34d137f5c5c5e1ca1d6f325a4dcf', '25076719', 3], ['fffc34d137f5c5c5e1ca1d6f325a4dcf', '23503834', 4], ['fffc34d137f5c5c5e1ca1d6f325a4dcf', '22789111', 4], ['fffc34d137f5c5c5e1ca1d6f325a4dcf', '23982972', 3], ['fffc34d137f5c5c5e1ca1d6f325a4dcf', '23241668', 3], ['fffc34d137f5c5c5e1ca1d6f325a4dcf', '1294247', 3], ['fffc34d137f5c5c5e1ca1d6f325a4dcf', '15985364', 4], ['fffc34d137f5c5c5e1ca1d6f325a4dcf', '6492676', 3], ['fffc34d137f5c5c5e1ca1d6f325a4dcf', '9640779', 4], ['ffffbb062a8b208c9c1031b529c08f7a', '16131399', 5], ['ffffbb062a8b208c9c1031b529c08f7a', '11029842', 1], ['fffe3fca0160bd78ae5828b44fbeb72d', '24000357', 5], ['fffa84546640e2fc35ec5e7c39a126cd', '18586340', 5], ['fff99682ca5ff8aab27863cb42f24e16', '22416', 4], ['fffba5600c5d01693b75964e7fbe193f', '17571564', 4]]\n",
      "[5, 1]\n",
      "[2, 4, 4, 4, 3, 4, 4, 4, 4]\n",
      "[5, 5, 5]\n",
      "[5]\n",
      "[5]\n",
      "[0, 2, 3, 4, 4, 3, 3, 3, 4, 4, 3, 3, 3, 4, 3, 4]\n",
      "[4]\n",
      "[5]\n",
      "[5]\n",
      "[4]\n"
     ]
    }
   ],
   "source": [
    "rec = []\n",
    "for d in data:\n",
    "    if (d['user_id'] in users_most_similar) :\n",
    "        rec.append([d['user_id'],d['book_id'],d['rating']])\n",
    "print(rec)\n",
    "for u in users_most_similar:\n",
    "    ratings = []\n",
    "    for b in user_book_dict[u]:\n",
    "        for r in rec :\n",
    "            if (r[0]==u) & (r[1]==b): \n",
    "                ratings.append(r[2])\n",
    "    print(ratings)"
   ]
  },
  {
   "cell_type": "markdown",
   "metadata": {},
   "source": [
    "Answer for Problem 2\n",
    "\n",
    "a. recommendation by strategy a : all equal to zero so sort by alphabetical order\n",
    "\n",
    "['1000059', '10000736', '1000096', '10001021', '10001176', '10001434', '1000163', '1000246', '10002633', '10002666']\n",
    "\n",
    "b. recommendation by strategy b :\n",
    "\n",
    "['16131399', '15704307', '22424', '24000357', '19351043', '9640779', '17571564', '18586340', '25652706', '22416']"
   ]
  },
  {
   "cell_type": "markdown",
   "metadata": {},
   "source": [
    "<img src=\"problem3.PNG\">"
   ]
  },
  {
   "cell_type": "code",
   "execution_count": 119,
   "metadata": {},
   "outputs": [],
   "source": [
    "import gzip\n",
    "import math\n",
    "import random\n",
    "from collections import defaultdict\n",
    "\n",
    "usersPerItem = defaultdict(set) # Maps an item to the users who rated it\n",
    "itemsPerUser = defaultdict(set) # Maps a user to the items that they rated\n",
    "itemNames = {}\n",
    "ratingDict = {} # To retrieve a rating for a specific user/item pair\n",
    "\n",
    "for d in data:\n",
    "    user,item = d['user_id'], d['book_id']\n",
    "    usersPerItem[item].add(user)\n",
    "    itemsPerUser[user].add(item)\n",
    "    ratingDict[(user,item)] = d['rating']\n",
    "    #itemNames[item] = d['product_title']"
   ]
  },
  {
   "cell_type": "code",
   "execution_count": 120,
   "metadata": {},
   "outputs": [],
   "source": [
    "userAverages = {}\n",
    "itemAverages = {}\n",
    "\n",
    "for u in itemsPerUser:\n",
    "    rs = [ratingDict[(u,i)] for i in itemsPerUser[u]]\n",
    "    userAverages[u] = sum(rs) / len(rs)\n",
    "    \n",
    "for i in usersPerItem:\n",
    "    rs = [ratingDict[(u,i)] for u in usersPerItem[i]]\n",
    "    itemAverages[i] = sum(rs) / len(rs)"
   ]
  },
  {
   "cell_type": "code",
   "execution_count": 121,
   "metadata": {},
   "outputs": [],
   "source": [
    "def Pearson_inter(i1, i2):\n",
    "    # Between two items\n",
    "    iBar1 = itemAverages[i1]\n",
    "    iBar2 = itemAverages[i2]\n",
    "    inter = usersPerItem[i1].intersection(usersPerItem[i2])\n",
    "    numer = 0\n",
    "    denom1 = 0\n",
    "    denom2 = 0\n",
    "    for u in inter:\n",
    "        numer += (ratingDict[u,i1] - iBar1)*(ratingDict[(u,i2)] - iBar2)\n",
    "    for u in inter: #usersPerItem[i1]:\n",
    "        denom1 += (ratingDict[(u,i1)] - iBar1)**2\n",
    "    #for u in usersPerItem[i2]:\n",
    "        denom2 += (ratingDict[(u,i2)] - iBar2)**2\n",
    "    denom = math.sqrt(denom1) * math.sqrt(denom2)\n",
    "    if denom == 0: return 0\n",
    "    return numer / denom\n",
    "\n",
    "def Pearson_union(i1, i2):\n",
    "    # Between two items\n",
    "    iBar1 = itemAverages[i1]\n",
    "    iBar2 = itemAverages[i2]\n",
    "    inter = usersPerItem[i1].intersection(usersPerItem[i2])\n",
    "    numer = 0\n",
    "    denom1 = 0\n",
    "    denom2 = 0\n",
    "    for u in inter:\n",
    "        numer += (ratingDict[(u,i1)] - iBar1)*(ratingDict[(u,i2)] - iBar2)\n",
    "    for u in usersPerItem[i1]:\n",
    "        denom1 += (ratingDict[(u,i1)] - iBar1)**2\n",
    "    for u in usersPerItem[i2]:\n",
    "        denom2 += (ratingDict[(u,i2)] - iBar2)**2\n",
    "    denom = math.sqrt(denom1) * math.sqrt(denom2)\n",
    "    if denom == 0: return 0\n",
    "    return numer / denom"
   ]
  },
  {
   "cell_type": "code",
   "execution_count": 122,
   "metadata": {},
   "outputs": [
    {
     "name": "stdout",
     "output_type": "stream",
     "text": [
      "['1103951', '1103951', '1103951', '1103951', '1103951', '1103951', '1103951', '1103951', '1103951', '1103951']\n",
      "['18471619', '20300526', '13280885', '18208501', '21521612', '21521612', '1341758', '6314737', '4009034', '988744']\n"
     ]
    }
   ],
   "source": [
    "# item = ‘18471619’\n",
    "item = '18471619'\n",
    "sim_pearson_inter = []\n",
    "sim_pearson_union = []\n",
    "for b in book_id_list:\n",
    "    sim_pearson_inter.append(Pearson_inter(item,str(b)))\n",
    "    sim_pearson_union.append(Pearson_union(item,str(b)))\n",
    "\n",
    "sim_pearson_inter_sorted = sorted(sim_pearson_inter)\n",
    "sim_pearson_inter_sorted.reverse()\n",
    "sim_pearson_union_sorted = sorted(sim_pearson_union)\n",
    "sim_pearson_union_sorted.reverse()\n",
    "\n",
    "pearson_inter_top_ten_books = [book_id_list[sim_pearson_inter.index(s)] for s in sim_pearson_inter_sorted[0:10]]\n",
    "pearson_union_top_ten_books = [book_id_list[sim_pearson_union.index(s)] for s in sim_pearson_union_sorted[0:10]]\n",
    "print(pearson_inter_top_ten_books)\n",
    "print(pearson_union_top_ten_books)"
   ]
  },
  {
   "cell_type": "markdown",
   "metadata": {},
   "source": [
    "Answer for Problem 3\n",
    "\n",
    "a. top 10 items recommended based on Pearson Similarity (denominator with intersection)\n",
    "\n",
    "['1103951', '1103951', '1103951', '1103951', '1103951', '1103951', '1103951', '1103951', '1103951', '1103951']\n",
    "\n",
    "b. top 10 items recommended based on Pearson Similarity (denominator with union)\n",
    "\n",
    "['18471619', '20300526', '13280885', '18208501', '21521612', '21521612', '1341758', '6314737', '4009034', '988744']"
   ]
  },
  {
   "cell_type": "markdown",
   "metadata": {},
   "source": [
    "<img src=\"problem4.PNG\">"
   ]
  },
  {
   "cell_type": "code",
   "execution_count": 129,
   "metadata": {},
   "outputs": [],
   "source": [
    "import numpy as np\n",
    "\n",
    "def predictRating(user,item):\n",
    "    ratings = []\n",
    "    similarities = []\n",
    "    for d in reviewsPerUser[user]:\n",
    "        i2 = d['book_id']\n",
    "        if i2 == item: continue\n",
    "        ratings.append(d['rating'] - itemAverages[i2])\n",
    "        similarities.append(Jaccard(usersPerItem[item],usersPerItem[i2]))\n",
    "    if (sum(similarities) > 0):\n",
    "        weightedRatings = [(x*y) for x,y in zip(ratings,similarities)]\n",
    "        return itemAverages[item] + sum(weightedRatings) / sum(similarities)\n",
    "    else:\n",
    "        # User hasn't rated any similar items\n",
    "        return ratingMean\n",
    "\n",
    "reviewsPerUser = defaultdict(list)\n",
    "reviewsPerItem = defaultdict(list)\n",
    "for d in data:\n",
    "    user,item = d['user_id'], d['book_id']\n",
    "    reviewsPerUser[user].append(d)\n",
    "    reviewsPerItem[item].append(d)\n",
    "ratingMean = sum([d['rating'] for d in data]) / len(data)\n",
    "\n",
    "ratings_data = []\n",
    "ratings_pred = []\n",
    "for d in data:\n",
    "    ratings_data.append(d['rating'])\n",
    "    ratings_pred.append(predictRating(d['user_id'],d['book_id']))\n",
    "    \n",
    "mse = np.square(np.subtract(np.array(ratings_data),np.array(ratings_pred))).mean() "
   ]
  },
  {
   "cell_type": "code",
   "execution_count": 130,
   "metadata": {},
   "outputs": [
    {
     "name": "stdout",
     "output_type": "stream",
     "text": [
      "0.8097344461671871\n"
     ]
    }
   ],
   "source": [
    "print(mse)"
   ]
  },
  {
   "cell_type": "markdown",
   "metadata": {},
   "source": [
    "Answer for Problem 4\n",
    "\n",
    "a. MSE = 0.8097344461671871"
   ]
  },
  {
   "cell_type": "markdown",
   "metadata": {},
   "source": [
    "<img src=\"problem5.PNG\">"
   ]
  },
  {
   "cell_type": "code",
   "execution_count": 146,
   "metadata": {},
   "outputs": [
    {
     "ename": "ValueError",
     "evalue": "operands could not be broadcast together with shapes (20000,) (10000,) ",
     "output_type": "error",
     "traceback": [
      "\u001b[0;31m---------------------------------------------------------------------------\u001b[0m",
      "\u001b[0;31mValueError\u001b[0m                                Traceback (most recent call last)",
      "\u001b[0;32m/var/folders/x9/xv9fr3td34x85pl4rz2hy7kh0000gn/T/ipykernel_51326/3858428067.py\u001b[0m in \u001b[0;36m<module>\u001b[0;34m\u001b[0m\n\u001b[1;32m     36\u001b[0m     \u001b[0mratings_pred\u001b[0m\u001b[0;34m.\u001b[0m\u001b[0mappend\u001b[0m\u001b[0;34m(\u001b[0m\u001b[0mpredictRating_Cosine\u001b[0m\u001b[0;34m(\u001b[0m\u001b[0md\u001b[0m\u001b[0;34m[\u001b[0m\u001b[0;34m'user_id'\u001b[0m\u001b[0;34m]\u001b[0m\u001b[0;34m,\u001b[0m\u001b[0md\u001b[0m\u001b[0;34m[\u001b[0m\u001b[0;34m'book_id'\u001b[0m\u001b[0;34m]\u001b[0m\u001b[0;34m)\u001b[0m\u001b[0;34m)\u001b[0m\u001b[0;34m\u001b[0m\u001b[0;34m\u001b[0m\u001b[0m\n\u001b[1;32m     37\u001b[0m \u001b[0;34m\u001b[0m\u001b[0m\n\u001b[0;32m---> 38\u001b[0;31m \u001b[0mmse\u001b[0m \u001b[0;34m=\u001b[0m \u001b[0mnp\u001b[0m\u001b[0;34m.\u001b[0m\u001b[0msquare\u001b[0m\u001b[0;34m(\u001b[0m\u001b[0mnp\u001b[0m\u001b[0;34m.\u001b[0m\u001b[0msubtract\u001b[0m\u001b[0;34m(\u001b[0m\u001b[0mnp\u001b[0m\u001b[0;34m.\u001b[0m\u001b[0marray\u001b[0m\u001b[0;34m(\u001b[0m\u001b[0mratings_data\u001b[0m\u001b[0;34m)\u001b[0m\u001b[0;34m,\u001b[0m\u001b[0mnp\u001b[0m\u001b[0;34m.\u001b[0m\u001b[0marray\u001b[0m\u001b[0;34m(\u001b[0m\u001b[0mratings_pred\u001b[0m\u001b[0;34m)\u001b[0m\u001b[0;34m)\u001b[0m\u001b[0;34m)\u001b[0m\u001b[0;34m.\u001b[0m\u001b[0mmean\u001b[0m\u001b[0;34m(\u001b[0m\u001b[0;34m)\u001b[0m\u001b[0;34m\u001b[0m\u001b[0;34m\u001b[0m\u001b[0m\n\u001b[0m\u001b[1;32m     39\u001b[0m \u001b[0mprint\u001b[0m\u001b[0;34m(\u001b[0m\u001b[0mmse\u001b[0m\u001b[0;34m)\u001b[0m\u001b[0;34m\u001b[0m\u001b[0;34m\u001b[0m\u001b[0m\n",
      "\u001b[0;31mValueError\u001b[0m: operands could not be broadcast together with shapes (20000,) (10000,) "
     ]
    }
   ],
   "source": [
    "# Cosine similarity\n",
    "def Cosine(i1, i2):\n",
    "    # Between two items\n",
    "    inter = usersPerItem[i1].intersection(usersPerItem[i2])\n",
    "    numer = 0\n",
    "    denom1 = 0\n",
    "    denom2 = 0\n",
    "    for u in inter:\n",
    "        numer += ratingDict[(u,i1)]*ratingDict[(u,i2)]\n",
    "    for u in usersPerItem[i1]:\n",
    "        denom1 += ratingDict[(u,i1)]**2\n",
    "    for u in usersPerItem[i2]:\n",
    "        denom2 += ratingDict[(u,i2)]**2\n",
    "    denom = math.sqrt(denom1) * math.sqrt(denom2)\n",
    "    if denom == 0: return 0\n",
    "    return numer / denom\n",
    "\n",
    "def predictRating_Cosine(user,item):\n",
    "    ratings = []\n",
    "    similarities = []\n",
    "    for d in reviewsPerUser[user]:\n",
    "        i2 = d['book_id']\n",
    "        if i2 == item: continue\n",
    "        ratings.append(d['rating'] - itemAverages[i2])\n",
    "        similarities.append(Cosine(item,i2))\n",
    "    if (sum(similarities) > 0):\n",
    "        weightedRatings = [(x*y) for x,y in zip(ratings,similarities)]\n",
    "        return itemAverages[item] + sum(weightedRatings) / sum(similarities)\n",
    "    else:\n",
    "        # User hasn't rated any similar items\n",
    "        return ratingMean\n",
    "    \n",
    "ratings_pred = []\n",
    "for d in data[0:10000]:\n",
    "    ratings_data.append(d['rating'])\n",
    "    ratings_pred.append(predictRating_Cosine(d['user_id'],d['book_id']))\n",
    "    \n"
   ]
  },
  {
   "cell_type": "code",
   "execution_count": 148,
   "metadata": {},
   "outputs": [
    {
     "name": "stdout",
     "output_type": "stream",
     "text": [
      "0.7107374206362238\n"
     ]
    }
   ],
   "source": [
    "ratings_data = [d['rating'] for d in data[0:10000] ]\n",
    "mse = np.square(np.subtract(np.array(ratings_data),np.array(ratings_pred))).mean() \n",
    "print(mse)"
   ]
  },
  {
   "cell_type": "code",
   "execution_count": 152,
   "metadata": {},
   "outputs": [
    {
     "name": "stdout",
     "output_type": "stream",
     "text": [
      "8595.26558013147\n"
     ]
    }
   ],
   "source": [
    "# Pearson similarity\n",
    "def Pearson_inter(i1, i2):\n",
    "    # Between two items\n",
    "    iBar1 = itemAverages[i1]\n",
    "    iBar2 = itemAverages[i2]\n",
    "    inter = usersPerItem[i1].intersection(usersPerItem[i2])\n",
    "    numer = 0\n",
    "    denom1 = 0\n",
    "    denom2 = 0\n",
    "    for u in inter:\n",
    "        numer += (ratingDict[(u,i1)] - iBar1)*(ratingDict[(u,i2)] - iBar2)\n",
    "    for u in inter: #usersPerItem[i1]:\n",
    "        denom1 += (ratingDict[(u,i1)] - iBar1)**2\n",
    "    #for u in usersPerItem[i2]:\n",
    "        denom2 += (ratingDict[(u,i2)] - iBar2)**2\n",
    "    denom = math.sqrt(denom1) * math.sqrt(denom2)\n",
    "    if denom == 0: return 0\n",
    "    return numer / denom\n",
    "\n",
    "def predictRating_Pearson_inter(user,item):\n",
    "    ratings = []\n",
    "    similarities = []\n",
    "    for d in reviewsPerUser[user]:\n",
    "        i2 = d['book_id']\n",
    "        if i2 == item: continue\n",
    "        ratings.append(d['rating'] - itemAverages[i2])\n",
    "        similarities.append(Pearson_inter(item,i2))\n",
    "    if (sum(similarities) > 0):\n",
    "        weightedRatings = [(x*y) for x,y in zip(ratings,similarities)]\n",
    "        return itemAverages[item] + sum(weightedRatings) / sum(similarities)\n",
    "    else:\n",
    "        # User hasn't rated any similar items\n",
    "        return ratingMean\n",
    "    \n",
    "ratings_data = []   \n",
    "ratings_pred = []\n",
    "for d in data[0:10000]:\n",
    "    ratings_data.append(d['rating'])\n",
    "    ratings_pred.append(predictRating_Pearson_inter(d['user_id'],d['book_id']))\n",
    "    \n",
    "mse = np.square(np.subtract(np.array(ratings_data),np.array(ratings_pred))).mean() \n",
    "print(mse)\n"
   ]
  },
  {
   "cell_type": "code",
   "execution_count": 160,
   "metadata": {},
   "outputs": [],
   "source": [
    "m = np.square(np.subtract(np.array(ratings_data),np.array(ratings_pred)))"
   ]
  },
  {
   "cell_type": "code",
   "execution_count": 165,
   "metadata": {},
   "outputs": [
    {
     "data": {
      "text/plain": [
       "25385820.982252207"
      ]
     },
     "execution_count": 165,
     "metadata": {},
     "output_type": "execute_result"
    }
   ],
   "source": [
    "m.max()"
   ]
  },
  {
   "cell_type": "code",
   "execution_count": 166,
   "metadata": {},
   "outputs": [
    {
     "name": "stdout",
     "output_type": "stream",
     "text": [
      "9602.525337537289\n"
     ]
    }
   ],
   "source": [
    "def Pearson_union(i1, i2):\n",
    "    # Between two items\n",
    "    iBar1 = itemAverages[i1]\n",
    "    iBar2 = itemAverages[i2]\n",
    "    inter = usersPerItem[i1].intersection(usersPerItem[i2])\n",
    "    numer = 0\n",
    "    denom1 = 0\n",
    "    denom2 = 0\n",
    "    for u in inter:\n",
    "        numer += (ratingDict[(u,i1)] - iBar1)*(ratingDict[(u,i2)] - iBar2)\n",
    "    for u in usersPerItem[i1]:\n",
    "        denom1 += (ratingDict[(u,i1)] - iBar1)**2\n",
    "    for u in usersPerItem[i2]:\n",
    "        denom2 += (ratingDict[(u,i2)] - iBar2)**2\n",
    "    denom = math.sqrt(denom1) * math.sqrt(denom2)\n",
    "    if denom == 0: return 0\n",
    "    return numer / denom\n",
    "\n",
    "def predictRating_Pearson_union(user,item):\n",
    "    ratings = []\n",
    "    similarities = []\n",
    "    for d in reviewsPerUser[user]:\n",
    "        i2 = d['book_id']\n",
    "        if i2 == item: continue\n",
    "        ratings.append(d['rating'] - itemAverages[i2])\n",
    "        similarities.append(Pearson_union(item,i2))\n",
    "    if (sum(similarities) > 0):\n",
    "        weightedRatings = [(x*y) for x,y in zip(ratings,similarities)]\n",
    "        return itemAverages[item] + sum(weightedRatings) / sum(similarities)\n",
    "    else:\n",
    "        # User hasn't rated any similar items\n",
    "        return ratingMean\n",
    "\n",
    "ratings_data = []\n",
    "ratings_pred = []\n",
    "for d in data[0:10000]:\n",
    "    ratings_data.append(d['rating'])\n",
    "    ratings_pred.append(predictRating_Pearson_union(d['user_id'],d['book_id']))\n",
    "    \n",
    "mse = np.square(np.subtract(np.array(ratings_data),np.array(ratings_pred))).mean() \n",
    "print(mse)"
   ]
  },
  {
   "cell_type": "code",
   "execution_count": 167,
   "metadata": {},
   "outputs": [
    {
     "name": "stdout",
     "output_type": "stream",
     "text": [
      "9602.525337537289\n"
     ]
    }
   ],
   "source": [
    "# Jaccard similarity interchanging users and items\n",
    "def Jaccard(s1, s2):\n",
    "    numer = len(s1.intersection(s2))\n",
    "    denom = len(s1.union(s2))\n",
    "    if denom == 0:\n",
    "        return 0\n",
    "    return numer / denom\n",
    "\n",
    "def predictRating_Jaccard(user,item):\n",
    "    ratings = []\n",
    "    similarities = []\n",
    "    for d in reviewsPerItem[item]:\n",
    "        u2 = d['book_id']\n",
    "        if u2 == user: continue\n",
    "        ratings.append(d['rating'] - usersAverages[u2])\n",
    "        similarities.append(Jaccard(itemsPerUser[user],itemsPerUser[u2]))\n",
    "    if (sum(similarities) > 0):\n",
    "        weightedRatings = [(x*y) for x,y in zip(ratings,similarities)]\n",
    "        return userAverages[user] + sum(weightedRatings) / sum(similarities)\n",
    "    else:\n",
    "        # User hasn't rated any similar items\n",
    "        return ratingMean\n",
    "    \n",
    "ratings_data = []\n",
    "ratings_pred = []\n",
    "for d in data[0:10000]:\n",
    "    ratings_data.append(d['rating'])\n",
    "    ratings_pred.append(predictRating_Pearson_union(d['user_id'],d['book_id']))\n",
    "    \n",
    "mse = np.square(np.subtract(np.array(ratings_data),np.array(ratings_pred))).mean() \n",
    "print(mse)"
   ]
  },
  {
   "cell_type": "markdown",
   "metadata": {},
   "source": [
    "Answer for Problem 5\n",
    "\n",
    "a. MSE for Cosine Similarity\n",
    "\n",
    "   mse = 0.7107374206362238\n",
    "   \n",
    "b. MSE for Pearson Similarity, Denominator Intersection\n",
    "\n",
    "   mse = 8595.26558013147\n",
    "\n",
    "   MSE for Pearson Similarity, Denominator Union\n",
    "   \n",
    "   mse = 9602.525337537289\n",
    "\n",
    "c. MSE for Jaccard Similarity interchanging users and items\n",
    "\n",
    "   mse = 9602.525337537289"
   ]
  },
  {
   "cell_type": "markdown",
   "metadata": {},
   "source": [
    "<img src=\"problem6.PNG\">"
   ]
  },
  {
   "cell_type": "code",
   "execution_count": null,
   "metadata": {},
   "outputs": [],
   "source": []
  },
  {
   "cell_type": "markdown",
   "metadata": {},
   "source": [
    "Answer for Problem 6\n"
   ]
  }
 ],
 "metadata": {
  "kernelspec": {
   "display_name": "Python 3 (ipykernel)",
   "language": "python",
   "name": "python3"
  },
  "language_info": {
   "codemirror_mode": {
    "name": "ipython",
    "version": 3
   },
   "file_extension": ".py",
   "mimetype": "text/x-python",
   "name": "python",
   "nbconvert_exporter": "python",
   "pygments_lexer": "ipython3",
   "version": "3.9.7"
  }
 },
 "nbformat": 4,
 "nbformat_minor": 2
}
