{
 "cells": [
  {
   "cell_type": "code",
   "execution_count": 1,
   "metadata": {},
   "outputs": [],
   "source": [
    "import gzip\n",
    "from collections import defaultdict\n",
    "import math\n",
    "import scipy.optimize\n",
    "from sklearn import svm\n",
    "import numpy\n",
    "import string\n",
    "import random\n",
    "import string\n",
    "from sklearn import linear_model\n",
    "import csv"
   ]
  },
  {
   "cell_type": "code",
   "execution_count": 2,
   "metadata": {},
   "outputs": [],
   "source": [
    "def readGz(path):\n",
    "    for l in gzip.open(path, 'rt'):\n",
    "        yield eval(l)\n",
    "        \n",
    "def readCSV(path):\n",
    "    f = gzip.open(path, 'rt')\n",
    "    c = csv.reader(f)\n",
    "    header = next(c)\n",
    "    for l in c:\n",
    "        d = dict(zip(header,l))\n",
    "        yield d['user_id'],d['recipe_id'],d"
   ]
  },
  {
   "cell_type": "code",
   "execution_count": 3,
   "metadata": {},
   "outputs": [
    {
     "name": "stdout",
     "output_type": "stream",
     "text": [
      "500000\n"
     ]
    }
   ],
   "source": [
    "allRatings = []\n",
    "for l in readCSV(\"trainInteractions.csv.gz\"):\n",
    "    allRatings.append(l)\n",
    "print(len(allRatings))"
   ]
  },
  {
   "cell_type": "code",
   "execution_count": 4,
   "metadata": {},
   "outputs": [],
   "source": [
    "ratingsTrain = allRatings[:400000]\n",
    "ratingsValid = allRatings[400000:]\n",
    "ratingsPerUser = defaultdict(list)\n",
    "ratingsPerItem = defaultdict(list)\n",
    "for u,b,d in ratingsTrain:\n",
    "    r = int(d['rating'])\n",
    "    ratingsPerUser[u].append((b,r))\n",
    "    ratingsPerItem[b].append((u,r))"
   ]
  },
  {
   "cell_type": "code",
   "execution_count": 9,
   "metadata": {},
   "outputs": [],
   "source": [
    "##################################################\n",
    "# Rating prediction (CSE258 only)                #\n",
    "##################################################"
   ]
  },
  {
   "cell_type": "code",
   "execution_count": 26,
   "metadata": {},
   "outputs": [],
   "source": [
    "trainRatings = [int(r[2]['rating']) for r in ratingsTrain]\n",
    "globalAverage = sum(trainRatings) * 1.0 / len(trainRatings)"
   ]
  },
  {
   "cell_type": "code",
   "execution_count": 27,
   "metadata": {},
   "outputs": [
    {
     "name": "stdout",
     "output_type": "stream",
     "text": [
      "Validation MSE (average only) = 0.9095362079996616\n"
     ]
    }
   ],
   "source": [
    "validMSE = 0\n",
    "for u,b,d in ratingsValid:\n",
    "    r = int(d['rating'])\n",
    "    se = (r - globalAverage)**2\n",
    "    validMSE += se\n",
    "\n",
    "validMSE /= len(ratingsValid)\n",
    "\n",
    "print(\"Validation MSE (average only) = \" + str(validMSE))"
   ]
  },
  {
   "cell_type": "code",
   "execution_count": 28,
   "metadata": {},
   "outputs": [],
   "source": [
    "betaU = {}\n",
    "betaI = {}\n",
    "for u in ratingsPerUser:\n",
    "    betaU[u] = 0\n",
    "\n",
    "for b in ratingsPerItem:\n",
    "    betaI[b] = 0"
   ]
  },
  {
   "cell_type": "code",
   "execution_count": 29,
   "metadata": {},
   "outputs": [
    {
     "name": "stdout",
     "output_type": "stream",
     "text": [
      "4.5808\n"
     ]
    }
   ],
   "source": [
    "alpha = globalAverage # Could initialize anywhere, this is a guess\n",
    "print(alpha)"
   ]
  },
  {
   "cell_type": "code",
   "execution_count": 30,
   "metadata": {},
   "outputs": [],
   "source": [
    "def iterate(lamb):\n",
    "    newAlpha = 0\n",
    "    for u,b,d in ratingsTrain:\n",
    "        r = int(d['rating'])\n",
    "        newAlpha += r - (betaU[u] + betaI[b])\n",
    "    alpha = newAlpha / len(ratingsTrain)\n",
    "    for u in ratingsPerUser:\n",
    "        newBetaU = 0\n",
    "        for b,r in ratingsPerUser[u]:\n",
    "            newBetaU += r - (alpha + betaI[b])\n",
    "        betaU[u] = newBetaU / (lamb + len(ratingsPerUser[u]))\n",
    "    for b in ratingsPerItem:\n",
    "        newBetaI = 0\n",
    "        for u,r in ratingsPerItem[b]:\n",
    "            newBetaI += r - (alpha + betaU[u])\n",
    "        betaI[b] = newBetaI / (lamb + len(ratingsPerItem[b]))\n",
    "    mse = 0\n",
    "    for u,b,d in ratingsTrain:\n",
    "        r = int(d['rating'])\n",
    "        prediction = alpha + betaU[u] + betaI[b]\n",
    "        mse += (r - prediction)**2\n",
    "    regularizer = 0\n",
    "    for u in betaU:\n",
    "        regularizer += betaU[u]**2\n",
    "    for b in betaI:\n",
    "        regularizer += betaI[b]**2\n",
    "    mse /= len(ratingsTrain)\n",
    "    return mse, mse + lamb*regularizer"
   ]
  },
  {
   "cell_type": "code",
   "execution_count": 31,
   "metadata": {},
   "outputs": [],
   "source": [
    "mse,objective = iterate(1)\n",
    "newMSE,newObjective = iterate(1)\n",
    "iterations = 2"
   ]
  },
  {
   "cell_type": "code",
   "execution_count": 32,
   "metadata": {},
   "outputs": [
    {
     "name": "stdout",
     "output_type": "stream",
     "text": [
      "Objective after 3 iterations = 29309.759129919436\n",
      "MSE after 3 iterations = 0.4998731768352436\n",
      "Objective after 4 iterations = 29326.4080671927\n",
      "MSE after 4 iterations = 0.4996553607856994\n",
      "Objective after 5 iterations = 29321.34959027473\n",
      "MSE after 5 iterations = 0.4995517409109471\n",
      "Objective after 6 iterations = 29313.49400318827\n",
      "MSE after 6 iterations = 0.4994875148943359\n",
      "Objective after 7 iterations = 29306.693722716333\n",
      "MSE after 7 iterations = 0.49944213048685787\n",
      "Objective after 8 iterations = 29301.33233055546\n",
      "MSE after 8 iterations = 0.4994079874004639\n",
      "Objective after 9 iterations = 29297.105603259675\n",
      "MSE after 9 iterations = 0.49938144123305295\n",
      "Objective after 10 iterations = 29293.670196341576\n",
      "MSE after 10 iterations = 0.4993603685475865\n",
      "Objective after 11 iterations = 29290.76764735018\n",
      "MSE after 11 iterations = 0.49934337467305595\n",
      "Objective after 12 iterations = 29288.22462109484\n",
      "MSE after 12 iterations = 0.4993294812928465\n",
      "Objective after 13 iterations = 29285.93063163215\n",
      "MSE after 13 iterations = 0.4993179769708115\n",
      "Objective after 14 iterations = 29283.8172675613\n",
      "MSE after 14 iterations = 0.4993083331698927\n",
      "Objective after 15 iterations = 29281.843025277572\n",
      "MSE after 15 iterations = 0.4993001515905194\n",
      "Objective after 16 iterations = 29279.98312195366\n",
      "MSE after 16 iterations = 0.49929312886866445\n",
      "Objective after 17 iterations = 29278.22291261747\n",
      "MSE after 17 iterations = 0.49928703195437213\n",
      "Objective after 18 iterations = 29276.553733039895\n",
      "MSE after 18 iterations = 0.4992816805022149\n",
      "Objective after 19 iterations = 29274.970321388388\n",
      "MSE after 19 iterations = 0.49927693405586493\n",
      "Objective after 20 iterations = 29273.46924895892\n",
      "MSE after 20 iterations = 0.499272682593752\n",
      "Objective after 21 iterations = 29272.04798708291\n",
      "MSE after 21 iterations = 0.49926883947811823\n",
      "Objective after 22 iterations = 29270.70437067874\n",
      "MSE after 22 iterations = 0.49926533614518487\n",
      "Objective after 23 iterations = 29269.436305603\n",
      "MSE after 23 iterations = 0.49926211807455084\n",
      "Objective after 24 iterations = 29268.241623179005\n",
      "MSE after 24 iterations = 0.49925914170737723\n",
      "Objective after 25 iterations = 29267.118021508388\n",
      "MSE after 25 iterations = 0.49925637207505674\n",
      "Objective after 26 iterations = 29266.063055797174\n",
      "MSE after 26 iterations = 0.49925378096603346\n",
      "Objective after 27 iterations = 29265.074154739723\n",
      "MSE after 27 iterations = 0.4992513455002884\n",
      "Objective after 28 iterations = 29264.14864914251\n",
      "MSE after 28 iterations = 0.4992490470180403\n",
      "Objective after 29 iterations = 29263.283804510265\n",
      "MSE after 29 iterations = 0.4992468702099252\n",
      "Objective after 30 iterations = 29262.476853195905\n",
      "MSE after 30 iterations = 0.499244802433675\n",
      "Objective after 31 iterations = 29261.725023681724\n",
      "MSE after 31 iterations = 0.49924283317658097\n",
      "Objective after 32 iterations = 29261.025565906308\n",
      "MSE after 32 iterations = 0.4992409536317082\n",
      "Objective after 33 iterations = 29260.375772380266\n",
      "MSE after 33 iterations = 0.4992391563622918\n",
      "Objective after 34 iterations = 29259.77299525315\n",
      "MSE after 34 iterations = 0.49923743503637646\n",
      "Objective after 35 iterations = 29259.214659601374\n",
      "MSE after 35 iterations = 0.4992357842162142\n",
      "Objective after 36 iterations = 29258.698273437083\n",
      "MSE after 36 iterations = 0.4992341991904482\n",
      "Objective after 37 iterations = 29258.22143492947\n",
      "MSE after 37 iterations = 0.4992326758414562\n",
      "Objective after 38 iterations = 29257.781837240676\n",
      "MSE after 38 iterations = 0.4992312105380818\n",
      "Objective after 39 iterations = 29257.37727140588\n",
      "MSE after 39 iterations = 0.4992298000512766\n",
      "Objective after 40 iterations = 29257.005627617033\n",
      "MSE after 40 iterations = 0.49922844148564344\n",
      "Objective after 41 iterations = 29256.664895270394\n",
      "MSE after 41 iterations = 0.4992271322247856\n",
      "Objective after 42 iterations = 29256.353161958104\n",
      "MSE after 42 iterations = 0.49922586988724177\n",
      "Objective after 43 iterations = 29256.068611710576\n",
      "MSE after 43 iterations = 0.4992246522908397\n",
      "Objective after 44 iterations = 29255.809522618252\n",
      "MSE after 44 iterations = 0.4992234774240343\n",
      "Objective after 45 iterations = 29255.57426405371\n",
      "MSE after 45 iterations = 0.4992223434223202\n",
      "Objective after 46 iterations = 29255.36129355361\n",
      "MSE after 46 iterations = 0.49922124854890026\n",
      "Objective after 47 iterations = 29255.169153472405\n",
      "MSE after 47 iterations = 0.49922019117942507\n",
      "Objective after 48 iterations = 29254.99646752075\n",
      "MSE after 48 iterations = 0.49921916978867426\n",
      "Objective after 49 iterations = 29254.841937269804\n",
      "MSE after 49 iterations = 0.49921818293967163\n",
      "Objective after 50 iterations = 29254.704338573265\n",
      "MSE after 50 iterations = 0.4992172292750966\n",
      "Objective after 51 iterations = 29254.582518073665\n",
      "MSE after 51 iterations = 0.49921630750937984\n",
      "Objective after 52 iterations = 29254.47538972738\n",
      "MSE after 52 iterations = 0.49921541642260026\n",
      "Objective after 53 iterations = 29254.381931450866\n",
      "MSE after 53 iterations = 0.4992145548546929\n",
      "Objective after 54 iterations = 29254.301181800274\n",
      "MSE after 54 iterations = 0.4992137217009473\n",
      "Objective after 55 iterations = 29254.23223681676\n",
      "MSE after 55 iterations = 0.4992129159078635\n",
      "Objective after 56 iterations = 29254.174246958322\n",
      "MSE after 56 iterations = 0.49921213646981355\n",
      "Objective after 57 iterations = 29254.12641418769\n",
      "MSE after 57 iterations = 0.49921138242537993\n",
      "Objective after 58 iterations = 29254.087989107953\n",
      "MSE after 58 iterations = 0.4992106528551596\n",
      "Objective after 59 iterations = 29254.058268324028\n",
      "MSE after 59 iterations = 0.49920994687891473\n",
      "Objective after 60 iterations = 29254.03659186372\n",
      "MSE after 60 iterations = 0.49920926365341106\n",
      "Objective after 61 iterations = 29254.022340724427\n",
      "MSE after 61 iterations = 0.49920860237039677\n",
      "Objective after 62 iterations = 29254.014934585477\n",
      "MSE after 62 iterations = 0.49920796225472724\n",
      "Objective after 63 iterations = 29254.013829574244\n",
      "MSE after 63 iterations = 0.4992073425626272\n",
      "Objective after 64 iterations = 29254.018516191863\n",
      "MSE after 64 iterations = 0.49920674258018155\n"
     ]
    }
   ],
   "source": [
    "while iterations < 10 or objective - newObjective > 0.0001:\n",
    "    mse, objective = newMSE, newObjective\n",
    "    newMSE, newObjective = iterate(1)\n",
    "    iterations += 1\n",
    "    print(\"Objective after \"\n",
    "        + str(iterations) + \" iterations = \" + str(newObjective))\n",
    "    print(\"MSE after \"\n",
    "        + str(iterations) + \" iterations = \" + str(newMSE))"
   ]
  },
  {
   "cell_type": "code",
   "execution_count": 33,
   "metadata": {},
   "outputs": [
    {
     "name": "stdout",
     "output_type": "stream",
     "text": [
      "Validation MSE = 0.9052282710310349\n"
     ]
    }
   ],
   "source": [
    "validMSE = 0\n",
    "for u,b,d in ratingsValid:\n",
    "    r = int(d['rating'])\n",
    "    bu = 0\n",
    "    bi = 0\n",
    "    if u in betaU:\n",
    "        bu = betaU[u]\n",
    "    if b in betaI:\n",
    "        bi = betaI[b]\n",
    "    prediction = alpha + bu + bi\n",
    "    validMSE += (r - prediction)**2\n",
    "\n",
    "validMSE /= len(ratingsValid)\n",
    "print(\"Validation MSE = \" + str(validMSE))"
   ]
  },
  {
   "cell_type": "code",
   "execution_count": 34,
   "metadata": {},
   "outputs": [
    {
     "name": "stdout",
     "output_type": "stream",
     "text": [
      "Maximum betaU = 87153225 (1.14049340679389)\n",
      "Maximum betaI = 14725150 (1.750266699895422)\n"
     ]
    }
   ],
   "source": [
    "betaUs = [(betaU[u], u) for u in betaU]\n",
    "betaIs = [(betaI[i], i) for i in betaI]\n",
    "betaUs.sort()\n",
    "betaIs.sort()\n",
    "\n",
    "print(\"Maximum betaU = \" + str(betaUs[-1][1]) + ' (' + str(betaUs[-1][0]) + ')')\n",
    "print(\"Maximum betaI = \" + str(betaIs[-1][1]) + ' (' + str(betaIs[-1][0]) + ')')"
   ]
  },
  {
   "cell_type": "code",
   "execution_count": 35,
   "metadata": {},
   "outputs": [
    {
     "name": "stdout",
     "output_type": "stream",
     "text": [
      "Objective after 2 iterations = 28974.497834639038\n",
      "MSE after 2 iterations = 0.6234995404166844\n",
      "Objective after 3 iterations = 28424.08543836325\n",
      "MSE after 3 iterations = 0.6236242862321617\n",
      "Objective after 4 iterations = 28353.528818019066\n",
      "MSE after 4 iterations = 0.6237418120987193\n",
      "Objective after 5 iterations = 28330.186053817717\n",
      "MSE after 5 iterations = 0.6237867633587479\n",
      "Objective after 6 iterations = 28319.70734050806\n",
      "MSE after 6 iterations = 0.6238095402529463\n",
      "Objective after 7 iterations = 28314.68783733236\n",
      "MSE after 7 iterations = 0.6238212181081728\n",
      "Objective after 8 iterations = 28312.351071417947\n",
      "MSE after 8 iterations = 0.6238267848724618\n",
      "Objective after 9 iterations = 28311.388343457995\n",
      "MSE after 9 iterations = 0.6238290320502794\n",
      "Objective after 10 iterations = 28311.13202460138\n",
      "MSE after 10 iterations = 0.6238295310141281\n",
      "Objective after 11 iterations = 28311.23156899055\n",
      "MSE after 11 iterations = 0.6238291483809962\n"
     ]
    }
   ],
   "source": [
    "# Better lambda...\n",
    "\n",
    "iterations = 1\n",
    "while iterations < 10 or objective - newObjective > 0.0001:\n",
    "    mse, objective = newMSE, newObjective\n",
    "    newMSE, newObjective = iterate(5)\n",
    "    iterations += 1\n",
    "    print(\"Objective after \" + str(iterations) + \" iterations = \" + str(newObjective))\n",
    "    print(\"MSE after \" + str(iterations) + \" iterations = \" + str(newMSE))"
   ]
  },
  {
   "cell_type": "code",
   "execution_count": 36,
   "metadata": {},
   "outputs": [],
   "source": [
    "alpha_ = alpha"
   ]
  },
  {
   "cell_type": "code",
   "execution_count": 37,
   "metadata": {},
   "outputs": [
    {
     "name": "stdout",
     "output_type": "stream",
     "text": [
      "Validation MSE = 0.8436078755864352\n"
     ]
    }
   ],
   "source": [
    "validMSE = 0\n",
    "for u,b,d in ratingsValid:\n",
    "    r = int(d['rating'])\n",
    "    bu = 0\n",
    "    bi = 0\n",
    "    if u in betaU:\n",
    "        bu = betaU[u]\n",
    "    if b in betaI:\n",
    "        bi = betaI[b]\n",
    "    prediction = alpha + bu + bi\n",
    "    validMSE += (r - prediction)**2\n",
    "\n",
    "validMSE /= len(ratingsValid)\n",
    "print(\"Validation MSE = \" + str(validMSE))"
   ]
  },
  {
   "cell_type": "code",
   "execution_count": 49,
   "metadata": {},
   "outputs": [],
   "source": [
    "predictions = open(\"HWpredictions_Rated.txt\", 'w')\n",
    "for l in open(\"stub_Rated.txt\"):\n",
    "    if l.startswith(\"user_id\"):\n",
    "        predictions.write(l)\n",
    "        continue\n",
    "    u,b = l.strip().split('-')\n",
    "    bu = 0\n",
    "    bi = 0\n",
    "    if u in betaU:\n",
    "        bu = betaU[u]\n",
    "    if b in betaI:\n",
    "        bi = betaI[b]\n",
    "    _ = predictions.write(u + '-' + b + ',' + str(alpha + bu + bi) + '\\n')\n",
    "\n",
    "predictions.close()"
   ]
  },
  {
   "cell_type": "markdown",
   "metadata": {},
   "source": [
    "### Latent factor model (Surprise)¶"
   ]
  },
  {
   "cell_type": "code",
   "execution_count": 8,
   "metadata": {},
   "outputs": [],
   "source": [
    "import gzip\n",
    "import random\n",
    "import scipy\n",
    "import tensorflow as tf\n",
    "from collections import defaultdict\n",
    "from surprise import SVD, Reader, Dataset, Trainset\n",
    "from surprise.model_selection import train_test_split"
   ]
  },
  {
   "cell_type": "code",
   "execution_count": 9,
   "metadata": {},
   "outputs": [],
   "source": [
    "#allRatings = []\n",
    "predictions = open(\"trainInteractions_suprise.csv\", 'w')\n",
    "for l in readCSV(\"trainInteractions.csv.gz\"):\n",
    "    #print(l)\n",
    "    predictions.write(l[2]['user_id'] + ',' + l[2]['recipe_id'] + ',' + l[2]['rating'] + '\\n')\n",
    "predictions.close()\n",
    "\n",
    "#print(allRatings[0])"
   ]
  },
  {
   "cell_type": "code",
   "execution_count": 10,
   "metadata": {},
   "outputs": [],
   "source": [
    "dataDir = '~/Desktop/CSE258/assignment1/'\n",
    "reader = Reader(line_format='user item rating', sep=',')\n",
    "data = Dataset.load_from_file(dataDir + \"trainInteractions_suprise.csv\", reader=reader)"
   ]
  },
  {
   "cell_type": "code",
   "execution_count": 11,
   "metadata": {},
   "outputs": [],
   "source": [
    "model = SVD()\n",
    "trainset, validset = train_test_split(data, test_size=.25)"
   ]
  },
  {
   "cell_type": "code",
   "execution_count": 12,
   "metadata": {},
   "outputs": [],
   "source": [
    "model.fit(trainset)\n",
    "predictions = model.test(validset)\n"
   ]
  },
  {
   "cell_type": "code",
   "execution_count": 13,
   "metadata": {},
   "outputs": [
    {
     "data": {
      "text/plain": [
       "5"
      ]
     },
     "execution_count": 13,
     "metadata": {},
     "output_type": "execute_result"
    }
   ],
   "source": [
    "predictions[0].est"
   ]
  },
  {
   "cell_type": "code",
   "execution_count": 14,
   "metadata": {},
   "outputs": [
    {
     "data": {
      "text/plain": [
       "Prediction(uid='70295963', iid='13248449', r_ui=5.0, est=5, details={'was_impossible': False})"
      ]
     },
     "execution_count": 14,
     "metadata": {},
     "output_type": "execute_result"
    }
   ],
   "source": [
    "predictions[0]"
   ]
  },
  {
   "cell_type": "code",
   "execution_count": 15,
   "metadata": {},
   "outputs": [
    {
     "data": {
      "text/plain": [
       "Prediction(uid='97678064', iid='27701084', r_ui=None, est=4.456433329108544, details={'was_impossible': False})"
      ]
     },
     "execution_count": 15,
     "metadata": {},
     "output_type": "execute_result"
    }
   ],
   "source": [
    "model.predict(uid='97678064', iid='27701084')"
   ]
  },
  {
   "cell_type": "code",
   "execution_count": 16,
   "metadata": {},
   "outputs": [
    {
     "name": "stdout",
     "output_type": "stream",
     "text": [
      "0.8367313627797117\n"
     ]
    }
   ],
   "source": [
    "sse = 0\n",
    "for p in predictions:\n",
    "    sse += (p.r_ui - p.est)**2\n",
    "\n",
    "print(sse / len(predictions))"
   ]
  },
  {
   "cell_type": "code",
   "execution_count": 17,
   "metadata": {},
   "outputs": [],
   "source": [
    "predictions = open(\"LatentFactorModel_Rated.txt\", 'w')\n",
    "for l in open(\"stub_Rated.txt\"):\n",
    "    if l.startswith(\"user_id\"):\n",
    "        predictions.write(l)\n",
    "        continue\n",
    "    u,b = l.strip().split('-')\n",
    "    pred = model.predict(uid=u, iid=b)\n",
    "    predictions.write(u + '-' + b + ',' + str(pred.est) + '\\n')\n",
    "\n",
    "predictions.close()"
   ]
  },
  {
   "cell_type": "markdown",
   "metadata": {},
   "source": [
    "### Baselines.py"
   ]
  },
  {
   "cell_type": "code",
   "execution_count": 5,
   "metadata": {},
   "outputs": [],
   "source": [
    "import gzip\n",
    "from collections import defaultdict\n",
    "from sklearn import linear_model\n",
    "import csv\n",
    "\n",
    "def readGz(path):\n",
    "    for l in gzip.open(path, 'rt'):\n",
    "        yield eval(l)\n",
    "\n",
    "def readCSV(path):\n",
    "    f = gzip.open(path, 'rt')\n",
    "    c = csv.reader(f)\n",
    "    header = next(c)\n",
    "    for l in c:\n",
    "        d = dict(zip(header,l))\n",
    "        yield d['user_id'],d['recipe_id'],d"
   ]
  },
  {
   "cell_type": "code",
   "execution_count": 6,
   "metadata": {},
   "outputs": [],
   "source": [
    "### Rating baseline: compute averages for each user, or return the global average if we've never seen the user before\n",
    "\n",
    "allRatings = []\n",
    "userRatings = defaultdict(list)\n",
    "\n",
    "for user,recipe,d in readCSV(\"trainInteractions.csv.gz\"):\n",
    "  r = int(d['rating'])\n",
    "  allRatings.append(r)\n",
    "  userRatings[user].append(r)\n",
    "\n",
    "globalAverage = sum(allRatings) / len(allRatings)\n",
    "userAverage = {}\n",
    "for u in userRatings:\n",
    "  userAverage[u] = sum(userRatings[u]) / len(userRatings[u])\n",
    "\n",
    "predictions = open(\"predictions_Rated.txt\", 'w')\n",
    "for l in open(\"stub_Rated.txt\"):\n",
    "  if l.startswith(\"user_id\"):\n",
    "    #header\n",
    "    predictions.write(l)\n",
    "    continue\n",
    "  u,i = l.strip().split('-')\n",
    "  if u in userAverage:\n",
    "    predictions.write(u + '-' + i + ',' + str(userAverage[u]) + '\\n')\n",
    "  else:\n",
    "    predictions.write(u + '-' + i + ',' + str(globalAverage) + '\\n')\n",
    "\n",
    "predictions.close()"
   ]
  },
  {
   "cell_type": "code",
   "execution_count": 7,
   "metadata": {},
   "outputs": [
    {
     "name": "stdout",
     "output_type": "stream",
     "text": [
      "Validation MSE = 0.7689307678860396\n"
     ]
    }
   ],
   "source": [
    "validMSE = 0\n",
    "for u,b,d in ratingsValid:\n",
    "    r = int(d['rating'])\n",
    "    prediction = globalAverage\n",
    "    if u in userAverage:\n",
    "        prediction = userAverage[u]\n",
    "    validMSE += (r - prediction)**2\n",
    "\n",
    "validMSE /= len(ratingsValid)\n",
    "print(\"Validation MSE = \" + str(validMSE))"
   ]
  },
  {
   "cell_type": "markdown",
   "metadata": {},
   "source": [
    "### Mean of baseline and latent factor model"
   ]
  },
  {
   "cell_type": "code",
   "execution_count": 21,
   "metadata": {},
   "outputs": [],
   "source": [
    "predictions = open(\"predictions_mean_Rated.txt\", 'w')\n",
    "for l in open(\"stub_Rated.txt\"):\n",
    "  if l.startswith(\"user_id\"):\n",
    "    #header\n",
    "    predictions.write(l)\n",
    "    continue\n",
    "  u,i = l.strip().split('-')\n",
    "  pred = model.predict(uid=u, iid=b)\n",
    "  if u in userAverage:\n",
    "    predictions.write(u + '-' + i + ',' + str((userAverage[u]+pred.est)/2)+ '\\n')\n",
    "  else:\n",
    "    predictions.write(u + '-' + i + ',' + str((globalAverage+pred.est)/2) + '\\n')\n",
    "\n",
    "predictions.close()"
   ]
  },
  {
   "cell_type": "code",
   "execution_count": 20,
   "metadata": {},
   "outputs": [
    {
     "name": "stdout",
     "output_type": "stream",
     "text": [
      "Validation MSE = 0.8068564418316578\n"
     ]
    }
   ],
   "source": [
    "validMSE = 0\n",
    "for u,b,d in ratingsValid:\n",
    "    r = int(d['rating'])\n",
    "    prediction = (globalAverage+pred.est)/2\n",
    "    if u in userAverage:\n",
    "        prediction = (userAverage[u]+pred.est)/2\n",
    "    validMSE += (r - prediction)**2\n",
    "\n",
    "validMSE /= len(ratingsValid)\n",
    "print(\"Validation MSE = \" + str(validMSE))"
   ]
  },
  {
   "cell_type": "markdown",
   "metadata": {},
   "source": [
    "### Bayesan Personalized Ranking"
   ]
  },
  {
   "cell_type": "code",
   "execution_count": 105,
   "metadata": {},
   "outputs": [
    {
     "data": {
      "text/plain": [
       "(13533, 151462)"
      ]
     },
     "execution_count": 105,
     "metadata": {},
     "output_type": "execute_result"
    }
   ],
   "source": [
    "userIDs,itemIDs = {},{}\n",
    "\n",
    "for user,recipe,d in readCSV(\"trainInteractions.csv.gz\"):\n",
    "    u,i = d['user_id'],d['recipe_id']\n",
    "    if not u in userIDs: userIDs[u] = len(userIDs)\n",
    "    if not i in itemIDs: itemIDs[i] = len(itemIDs)\n",
    "\n",
    "nUsers,nItems = len(userIDs),len(itemIDs)\n",
    "nUsers,nItems"
   ]
  },
  {
   "cell_type": "code",
   "execution_count": 108,
   "metadata": {},
   "outputs": [],
   "source": [
    "Xiu = scipy.sparse.lil_matrix((nItems, nUsers))\n",
    "for user,recipe,d in readCSV(\"trainInteractions.csv.gz\"):\n",
    "    u,i = d['user_id'],d['recipe_id']\n",
    "    Xiu[itemIDs[d['recipe_id']],userIDs[d['user_id']]] = 1\n",
    "    \n",
    "Xui = scipy.sparse.csr_matrix(Xiu.T)"
   ]
  },
  {
   "cell_type": "code",
   "execution_count": 109,
   "metadata": {},
   "outputs": [
    {
     "data": {
      "application/vnd.jupyter.widget-view+json": {
       "model_id": "edc86df578324b799b744b11a6d87098",
       "version_major": 2,
       "version_minor": 0
      },
      "text/plain": [
       "  0%|          | 0/100 [00:00<?, ?it/s]"
      ]
     },
     "metadata": {},
     "output_type": "display_data"
    }
   ],
   "source": [
    "model = bpr.BayesianPersonalizedRanking(factors = 5)\n",
    "model.fit(Xiu)"
   ]
  },
  {
   "cell_type": "code",
   "execution_count": 118,
   "metadata": {},
   "outputs": [
    {
     "data": {
      "text/plain": [
       "[(22426, 3.5211954),\n",
       " (62078, 3.4570208),\n",
       " (16345, 3.411941),\n",
       " (24198, 3.3494496),\n",
       " (4569, 3.3443437),\n",
       " (20400, 3.3059978),\n",
       " (22092, 3.2772527),\n",
       " (8810, 3.2588162),\n",
       " (10982, 3.2553535),\n",
       " (17671, 3.2341893)]"
      ]
     },
     "execution_count": 118,
     "metadata": {},
     "output_type": "execute_result"
    }
   ],
   "source": [
    "recommended = model.recommend(10, Xui)\n",
    "recommended"
   ]
  },
  {
   "cell_type": "code",
   "execution_count": 117,
   "metadata": {},
   "outputs": [
    {
     "data": {
      "text/plain": [
       "[(76838, 0.9999999),\n",
       " (0, 0.9952802),\n",
       " (1876, 0.98914796),\n",
       " (76931, 0.9853462),\n",
       " (93319, 0.9831609),\n",
       " (57613, 0.98255026),\n",
       " (92938, 0.98157287),\n",
       " (90758, 0.980197),\n",
       " (64739, 0.97917026),\n",
       " (151195, 0.9788191)]"
      ]
     },
     "execution_count": 117,
     "metadata": {},
     "output_type": "execute_result"
    }
   ],
   "source": [
    "related = model.similar_items(76838)\n",
    "related"
   ]
  },
  {
   "cell_type": "code",
   "execution_count": 111,
   "metadata": {},
   "outputs": [
    {
     "data": {
      "text/plain": [
       "array([ 0.12505014, -0.61250174,  0.59136564,  0.05454955,  0.44120973,\n",
       "        0.13717534], dtype=float32)"
      ]
     },
     "execution_count": 111,
     "metadata": {},
     "output_type": "execute_result"
    }
   ],
   "source": [
    "itemFactors = model.item_factors\n",
    "userFactors = model.user_factors\n",
    "itemFactors[0]"
   ]
  },
  {
   "cell_type": "code",
   "execution_count": 159,
   "metadata": {},
   "outputs": [],
   "source": [
    "import numpy as np\n",
    "\n",
    "def bpr_made_prediction(threshold):\n",
    "    scores = []\n",
    "    predictions = open(\"prediction_bpr_Made_%f.txt\"%threshold, 'w')\n",
    "    for l in open(\"stub_Made.txt\"):\n",
    "        if l.startswith(\"user_id\"):\n",
    "            predictions.write(l)\n",
    "            continue\n",
    "        u,i = l.strip().split('-')\n",
    "        if (u not in userIDs.keys()) or (i not in itemIDs.keys()):\n",
    "            predictions.write(u + '-' + i + \",0\\n\")\n",
    "            scores.append(0)\n",
    "            continue\n",
    "        itemFactor = itemFactors[itemIDs[i]]\n",
    "        userFactor = userFactors[userIDs[u]]\n",
    "        score = np.dot(userFactor, itemFactor)\n",
    "        scores.append(score)\n",
    "        #print(score)\n",
    "        if score>=threshold:\n",
    "            predictions.write(u + '-' + i + \",1\\n\")\n",
    "        else:\n",
    "            predictions.write(u + '-' + i + \",0\\n\")\n",
    "\n",
    "    predictions.close()\n",
    "\n",
    "for threshold in [-4,-3,-2,-1,-0.75,-0.5,-0.25,0,0.25,0.5,0.75,1,2,3,4]:\n",
    "    bpr_made_prediction(threshold)"
   ]
  },
  {
   "cell_type": "code",
   "execution_count": 164,
   "metadata": {},
   "outputs": [
    {
     "data": {
      "text/plain": [
       "{-4: 0.5481,\n",
       " -3: 0.5479,\n",
       " -2: 0.5486,\n",
       " -1: 0.5596,\n",
       " -0.75: 0.5677,\n",
       " -0.5: 0.5809,\n",
       " -0.25: 0.5993,\n",
       " 0: 0.6211,\n",
       " 0.25: 0.6389,\n",
       " 0.5: 0.6374,\n",
       " 0.75: 0,\n",
       " 1: 0.5995,\n",
       " 2: 0.52669,\n",
       " 3: 0,\n",
       " 4: 0.5033}"
      ]
     },
     "execution_count": 164,
     "metadata": {},
     "output_type": "execute_result"
    }
   ],
   "source": [
    "kaggle_score = {}\n",
    "kaggle_score[-4]=0.54810\n",
    "kaggle_score[-3]=0.54790\n",
    "kaggle_score[-2]=0.54860\n",
    "kaggle_score[-1]=0.55960\n",
    "kaggle_score[-0.75]=0.56770\n",
    "kaggle_score[-0.5]=0.58090\n",
    "kaggle_score[-0.25]=0.59930\n",
    "kaggle_score[0]=0.62110\n",
    "kaggle_score[0.25]=0.63890\n",
    "kaggle_score[0.5]=0.63740\n",
    "kaggle_score[0.75]= 0\n",
    "kaggle_score[1]=0.59950\n",
    "kaggle_score[2]=0.52669\n",
    "kaggle_score[3]= 0\n",
    "kaggle_score[4]=0.50330\n",
    "kaggle_score"
   ]
  },
  {
   "cell_type": "code",
   "execution_count": 151,
   "metadata": {},
   "outputs": [
    {
     "name": "stdout",
     "output_type": "stream",
     "text": [
      "-6.2406373\n",
      "3.81858\n"
     ]
    }
   ],
   "source": [
    "print(min(scores))\n",
    "print(max(scores))"
   ]
  },
  {
   "cell_type": "code",
   "execution_count": 153,
   "metadata": {},
   "outputs": [
    {
     "data": {
      "image/png": "[encoded data removed]",
      "text/plain": [
       "<Figure size 432x288 with 1 Axes>"
      ]
     },
     "metadata": {
      "needs_background": "light"
     },
     "output_type": "display_data"
    }
   ],
   "source": [
    "from matplotlib import pyplot as plt \n",
    "import numpy as np  \n",
    "   \n",
    "a = np.array([22,87,5,43,56,73,55,54,11,20,51,5,79,31,27]) \n",
    "plt.hist(scores,bins = [-7,-6,-5,-4,-3,-2,-1,0,1,2,3,4]) \n",
    "plt.title(\"histogram\") \n",
    "plt.show()"
   ]
  },
  {
   "cell_type": "code",
   "execution_count": null,
   "metadata": {},
   "outputs": [],
   "source": []
  }
 ],
 "metadata": {
  "kernelspec": {
   "display_name": "Python 3 (ipykernel)",
   "language": "python",
   "name": "python3"
  },
  "language_info": {
   "codemirror_mode": {
    "name": "ipython",
    "version": 3
   },
   "file_extension": ".py",
   "mimetype": "text/x-python",
   "name": "python",
   "nbconvert_exporter": "python",
   "pygments_lexer": "ipython3",
   "version": "3.9.7"
  }
 },
 "nbformat": 4,
 "nbformat_minor": 2
}
